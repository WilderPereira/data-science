{
 "cells": [
  {
   "cell_type": "code",
   "execution_count": 1,
   "metadata": {},
   "outputs": [],
   "source": [
    "import pandas as pd"
   ]
  },
  {
   "cell_type": "code",
   "execution_count": 2,
   "metadata": {},
   "outputs": [],
   "source": [
    "df = pd.read_csv('base_ac4.csv')"
   ]
  },
  {
   "cell_type": "code",
   "execution_count": 3,
   "metadata": {},
   "outputs": [
    {
     "name": "stdout",
     "output_type": "stream",
     "text": [
      "     TIPO_CLIENTE CD_SEXO  IDADE  PAGOU\n",
      "0              V0       M   26.0      0\n",
      "1              V0       M   39.0      1\n",
      "2              V0       M   31.0      0\n",
      "3              V0       F   45.0      0\n",
      "4              V0       F   25.0      1\n",
      "5              V0       M   35.0      0\n",
      "6              V0       M   39.0      0\n",
      "7              V0       F   38.0      1\n",
      "8              V0       M   64.0      1\n",
      "9              V0       M   31.0      0\n",
      "10             V0       M   38.0      0\n",
      "11             IN       M   37.0      0\n",
      "12             V0       M   46.0      1\n",
      "13             V0       M    NaN      0\n",
      "14             IN       M   47.0      1\n",
      "15             VG       M   36.0      0\n",
      "16             IN       M   36.0      1\n",
      "17             IN       M   38.0      1\n",
      "18             IN       M   33.0      0\n",
      "19             V0       F   36.0      0\n",
      "20             IN       M   31.0      1\n",
      "21             V0       F    NaN      0\n",
      "22             V0       M   31.0      0\n",
      "23             V0       M    NaN      0\n",
      "24             IN       M   35.0      1\n",
      "25             IN       F   44.0      1\n",
      "26             IN       F   69.0      0\n",
      "27             V0       M   76.0      0\n",
      "28             IN     NaN   24.0      1\n",
      "29             V0       F   39.0      0\n",
      "...           ...     ...    ...    ...\n",
      "1743           V0       M   46.0      1\n",
      "1744           IN       F   54.0      1\n",
      "1745           V0       M   37.0      0\n",
      "1746           V0       M   38.0      1\n",
      "1747           V0       M   18.0      1\n",
      "1748           V0       F   24.0      0\n",
      "1749           VG       M   42.0      1\n",
      "1750           V0       M   26.0      0\n",
      "1751           V0       M   33.0      0\n",
      "1752           V0       M   28.0      0\n",
      "1753           VG       M   50.0      0\n",
      "1754           V0       M    NaN      0\n",
      "1755           V0       I    NaN      0\n",
      "1756           IN       M   38.0      0\n",
      "1757           IN       I   45.0      0\n",
      "1758           V0       F   40.0      0\n",
      "1759           V0       F   52.0      1\n",
      "1760           V0       M   40.0      1\n",
      "1761           V0       M    NaN      1\n",
      "1762           IN       M   66.0      0\n",
      "1763           V0       F   31.0      1\n",
      "1764           V0       M   28.0      0\n",
      "1765           V0       M   40.0      1\n",
      "1766           VG     NaN   36.0      1\n",
      "1767           VG       M   48.0      0\n",
      "1768           V0       M   32.0      1\n",
      "1769           V0       M   25.0      0\n",
      "1770           IN       F   49.0      1\n",
      "1771           IN       F   44.0      1\n",
      "1772           V0       F   69.0      1\n",
      "\n",
      "[1773 rows x 4 columns]\n"
     ]
    }
   ],
   "source": [
    "print(df)"
   ]
  },
  {
   "cell_type": "code",
   "execution_count": 4,
   "metadata": {},
   "outputs": [],
   "source": [
    "# Substituindo os NaN de sexo com I (Indefinido)"
   ]
  },
  {
   "cell_type": "code",
   "execution_count": 5,
   "metadata": {},
   "outputs": [],
   "source": [
    "df[\"CD_SEXO\"].fillna(\"I\", inplace=True)"
   ]
  },
  {
   "cell_type": "code",
   "execution_count": 6,
   "metadata": {},
   "outputs": [],
   "source": [
    "# Substituindo os NaN de idade pela média"
   ]
  },
  {
   "cell_type": "code",
   "execution_count": 7,
   "metadata": {},
   "outputs": [],
   "source": [
    "df[\"IDADE\"].fillna(df['IDADE'].mean(), inplace=True)"
   ]
  },
  {
   "cell_type": "code",
   "execution_count": 8,
   "metadata": {},
   "outputs": [],
   "source": [
    "# Dataframe com os dados \"limpos\""
   ]
  },
  {
   "cell_type": "code",
   "execution_count": 9,
   "metadata": {},
   "outputs": [
    {
     "name": "stdout",
     "output_type": "stream",
     "text": [
      "     TIPO_CLIENTE CD_SEXO      IDADE  PAGOU\n",
      "0              V0       M  26.000000      0\n",
      "1              V0       M  39.000000      1\n",
      "2              V0       M  31.000000      0\n",
      "3              V0       F  45.000000      0\n",
      "4              V0       F  25.000000      1\n",
      "5              V0       M  35.000000      0\n",
      "6              V0       M  39.000000      0\n",
      "7              V0       F  38.000000      1\n",
      "8              V0       M  64.000000      1\n",
      "9              V0       M  31.000000      0\n",
      "10             V0       M  38.000000      0\n",
      "11             IN       M  37.000000      0\n",
      "12             V0       M  46.000000      1\n",
      "13             V0       M  39.157629      0\n",
      "14             IN       M  47.000000      1\n",
      "15             VG       M  36.000000      0\n",
      "16             IN       M  36.000000      1\n",
      "17             IN       M  38.000000      1\n",
      "18             IN       M  33.000000      0\n",
      "19             V0       F  36.000000      0\n",
      "20             IN       M  31.000000      1\n",
      "21             V0       F  39.157629      0\n",
      "22             V0       M  31.000000      0\n",
      "23             V0       M  39.157629      0\n",
      "24             IN       M  35.000000      1\n",
      "25             IN       F  44.000000      1\n",
      "26             IN       F  69.000000      0\n",
      "27             V0       M  76.000000      0\n",
      "28             IN       I  24.000000      1\n",
      "29             V0       F  39.000000      0\n",
      "...           ...     ...        ...    ...\n",
      "1743           V0       M  46.000000      1\n",
      "1744           IN       F  54.000000      1\n",
      "1745           V0       M  37.000000      0\n",
      "1746           V0       M  38.000000      1\n",
      "1747           V0       M  18.000000      1\n",
      "1748           V0       F  24.000000      0\n",
      "1749           VG       M  42.000000      1\n",
      "1750           V0       M  26.000000      0\n",
      "1751           V0       M  33.000000      0\n",
      "1752           V0       M  28.000000      0\n",
      "1753           VG       M  50.000000      0\n",
      "1754           V0       M  39.157629      0\n",
      "1755           V0       I  39.157629      0\n",
      "1756           IN       M  38.000000      0\n",
      "1757           IN       I  45.000000      0\n",
      "1758           V0       F  40.000000      0\n",
      "1759           V0       F  52.000000      1\n",
      "1760           V0       M  40.000000      1\n",
      "1761           V0       M  39.157629      1\n",
      "1762           IN       M  66.000000      0\n",
      "1763           V0       F  31.000000      1\n",
      "1764           V0       M  28.000000      0\n",
      "1765           V0       M  40.000000      1\n",
      "1766           VG       I  36.000000      1\n",
      "1767           VG       M  48.000000      0\n",
      "1768           V0       M  32.000000      1\n",
      "1769           V0       M  25.000000      0\n",
      "1770           IN       F  49.000000      1\n",
      "1771           IN       F  44.000000      1\n",
      "1772           V0       F  69.000000      1\n",
      "\n",
      "[1773 rows x 4 columns]\n"
     ]
    }
   ],
   "source": [
    "print(df)"
   ]
  },
  {
   "cell_type": "code",
   "execution_count": 10,
   "metadata": {},
   "outputs": [],
   "source": [
    "from sklearn.preprocessing import MultiLabelBinarizer"
   ]
  },
  {
   "cell_type": "code",
   "execution_count": 11,
   "metadata": {},
   "outputs": [],
   "source": [
    "mlb = MultiLabelBinarizer()"
   ]
  },
  {
   "cell_type": "code",
   "execution_count": 12,
   "metadata": {},
   "outputs": [],
   "source": [
    "# aplicando o binary encoding nas colunas de sexo e tipo_cliente"
   ]
  },
  {
   "cell_type": "code",
   "execution_count": 13,
   "metadata": {},
   "outputs": [],
   "source": [
    "df = df.join(pd.DataFrame(mlb.fit_transform(df.pop('CD_SEXO')),\n",
    "                         columns=mlb.classes_,\n",
    "                        index=df.index))"
   ]
  },
  {
   "cell_type": "code",
   "execution_count": 14,
   "metadata": {},
   "outputs": [
    {
     "name": "stdout",
     "output_type": "stream",
     "text": [
      "     TIPO_CLIENTE      IDADE  PAGOU  F  I  M\n",
      "0              V0  26.000000      0  0  0  1\n",
      "1              V0  39.000000      1  0  0  1\n",
      "2              V0  31.000000      0  0  0  1\n",
      "3              V0  45.000000      0  1  0  0\n",
      "4              V0  25.000000      1  1  0  0\n",
      "5              V0  35.000000      0  0  0  1\n",
      "6              V0  39.000000      0  0  0  1\n",
      "7              V0  38.000000      1  1  0  0\n",
      "8              V0  64.000000      1  0  0  1\n",
      "9              V0  31.000000      0  0  0  1\n",
      "10             V0  38.000000      0  0  0  1\n",
      "11             IN  37.000000      0  0  0  1\n",
      "12             V0  46.000000      1  0  0  1\n",
      "13             V0  39.157629      0  0  0  1\n",
      "14             IN  47.000000      1  0  0  1\n",
      "15             VG  36.000000      0  0  0  1\n",
      "16             IN  36.000000      1  0  0  1\n",
      "17             IN  38.000000      1  0  0  1\n",
      "18             IN  33.000000      0  0  0  1\n",
      "19             V0  36.000000      0  1  0  0\n",
      "20             IN  31.000000      1  0  0  1\n",
      "21             V0  39.157629      0  1  0  0\n",
      "22             V0  31.000000      0  0  0  1\n",
      "23             V0  39.157629      0  0  0  1\n",
      "24             IN  35.000000      1  0  0  1\n",
      "25             IN  44.000000      1  1  0  0\n",
      "26             IN  69.000000      0  1  0  0\n",
      "27             V0  76.000000      0  0  0  1\n",
      "28             IN  24.000000      1  0  1  0\n",
      "29             V0  39.000000      0  1  0  0\n",
      "...           ...        ...    ... .. .. ..\n",
      "1743           V0  46.000000      1  0  0  1\n",
      "1744           IN  54.000000      1  1  0  0\n",
      "1745           V0  37.000000      0  0  0  1\n",
      "1746           V0  38.000000      1  0  0  1\n",
      "1747           V0  18.000000      1  0  0  1\n",
      "1748           V0  24.000000      0  1  0  0\n",
      "1749           VG  42.000000      1  0  0  1\n",
      "1750           V0  26.000000      0  0  0  1\n",
      "1751           V0  33.000000      0  0  0  1\n",
      "1752           V0  28.000000      0  0  0  1\n",
      "1753           VG  50.000000      0  0  0  1\n",
      "1754           V0  39.157629      0  0  0  1\n",
      "1755           V0  39.157629      0  0  1  0\n",
      "1756           IN  38.000000      0  0  0  1\n",
      "1757           IN  45.000000      0  0  1  0\n",
      "1758           V0  40.000000      0  1  0  0\n",
      "1759           V0  52.000000      1  1  0  0\n",
      "1760           V0  40.000000      1  0  0  1\n",
      "1761           V0  39.157629      1  0  0  1\n",
      "1762           IN  66.000000      0  0  0  1\n",
      "1763           V0  31.000000      1  1  0  0\n",
      "1764           V0  28.000000      0  0  0  1\n",
      "1765           V0  40.000000      1  0  0  1\n",
      "1766           VG  36.000000      1  0  1  0\n",
      "1767           VG  48.000000      0  0  0  1\n",
      "1768           V0  32.000000      1  0  0  1\n",
      "1769           V0  25.000000      0  0  0  1\n",
      "1770           IN  49.000000      1  1  0  0\n",
      "1771           IN  44.000000      1  1  0  0\n",
      "1772           V0  69.000000      1  1  0  0\n",
      "\n",
      "[1773 rows x 6 columns]\n"
     ]
    }
   ],
   "source": [
    "print(df)"
   ]
  },
  {
   "cell_type": "code",
   "execution_count": 15,
   "metadata": {},
   "outputs": [],
   "source": [
    "import numpy as np"
   ]
  },
  {
   "cell_type": "code",
   "execution_count": 17,
   "metadata": {},
   "outputs": [],
   "source": [
    "df = df.reset_index(drop=True)"
   ]
  },
  {
   "cell_type": "code",
   "execution_count": 18,
   "metadata": {},
   "outputs": [],
   "source": [
    "df = df.merge(pd.DataFrame(mlb.fit_transform(df.pop('TIPO_CLIENTE')),\n",
    "                         columns=mlb.classes_,\n",
    "                        index=df.index))"
   ]
  },
  {
   "cell_type": "code",
   "execution_count": 19,
   "metadata": {},
   "outputs": [
    {
     "name": "stdout",
     "output_type": "stream",
     "text": [
      "         IDADE  PAGOU  F  I  M  0  G  N  V\n",
      "0         26.0      0  0  0  1  1  0  0  1\n",
      "1         26.0      0  0  0  1  1  0  0  1\n",
      "2         26.0      0  0  0  1  1  0  0  1\n",
      "3         26.0      0  0  0  1  1  0  0  1\n",
      "4         26.0      0  0  0  1  1  0  0  1\n",
      "5         26.0      0  0  0  1  1  0  0  1\n",
      "6         26.0      0  0  0  1  1  0  0  1\n",
      "7         26.0      0  0  0  1  1  0  0  1\n",
      "8         26.0      0  0  0  1  1  0  0  1\n",
      "9         26.0      0  0  0  1  1  0  0  1\n",
      "10        26.0      0  0  0  1  1  0  0  1\n",
      "11        26.0      0  0  0  1  1  0  0  1\n",
      "12        26.0      0  0  0  1  1  0  0  1\n",
      "13        26.0      0  0  0  1  0  1  0  1\n",
      "14        26.0      0  0  0  1  1  0  0  1\n",
      "15        26.0      0  0  0  1  1  0  0  1\n",
      "16        26.0      0  0  0  1  1  0  0  1\n",
      "17        26.0      0  0  0  1  1  0  0  1\n",
      "18        26.0      0  0  0  1  1  0  0  1\n",
      "19        26.0      0  0  0  1  1  0  0  1\n",
      "20        26.0      0  0  0  1  1  0  0  1\n",
      "21        26.0      0  0  0  1  1  0  0  1\n",
      "22        26.0      0  0  0  1  1  0  0  1\n",
      "23        26.0      0  0  0  1  1  0  0  1\n",
      "24        26.0      0  0  0  1  1  0  0  1\n",
      "25        26.0      0  0  0  1  1  0  0  1\n",
      "26        26.0      0  0  0  1  1  0  0  1\n",
      "27        26.0      0  0  0  1  1  0  0  1\n",
      "28        26.0      0  0  0  1  1  0  0  1\n",
      "29        26.0      0  0  0  1  1  0  0  1\n",
      "...        ...    ... .. .. .. .. .. .. ..\n",
      "2308182   36.0      1  0  1  0  0  0  1  0\n",
      "2308183   36.0      1  0  1  0  0  0  1  0\n",
      "2308184   36.0      1  0  1  0  0  0  1  0\n",
      "2308185   36.0      1  0  1  0  0  0  1  0\n",
      "2308186   36.0      1  0  1  0  0  0  1  0\n",
      "2308187   36.0      1  0  1  0  0  0  1  0\n",
      "2308188   36.0      1  0  1  0  0  0  1  0\n",
      "2308189   36.0      1  0  1  0  0  0  1  0\n",
      "2308190   36.0      1  0  1  0  0  0  1  0\n",
      "2308191   36.0      1  0  1  0  0  0  1  0\n",
      "2308192   36.0      1  0  1  0  0  0  1  0\n",
      "2308193   36.0      1  0  1  0  0  0  1  0\n",
      "2308194   36.0      1  0  1  0  0  0  1  0\n",
      "2308195   36.0      1  0  1  0  0  0  1  0\n",
      "2308196   36.0      1  0  1  0  0  0  1  0\n",
      "2308197   36.0      1  0  1  0  0  0  1  0\n",
      "2308198   36.0      1  0  1  0  0  0  1  0\n",
      "2308199   36.0      1  0  1  0  0  0  1  0\n",
      "2308200   36.0      1  0  1  0  0  0  1  0\n",
      "2308201   36.0      1  0  1  0  0  0  1  0\n",
      "2308202   36.0      1  0  1  0  0  0  1  0\n",
      "2308203   36.0      1  0  1  0  0  0  1  0\n",
      "2308204   36.0      1  0  1  0  0  0  1  0\n",
      "2308205   36.0      1  0  1  0  0  0  1  0\n",
      "2308206   36.0      1  0  1  0  0  0  1  0\n",
      "2308207   36.0      1  0  1  0  0  0  1  0\n",
      "2308208   36.0      1  0  1  0  0  0  1  0\n",
      "2308209   36.0      1  0  1  0  0  0  1  0\n",
      "2308210   36.0      1  0  1  0  0  0  1  0\n",
      "2308211   36.0      1  0  1  0  0  0  1  0\n",
      "\n",
      "[2308212 rows x 9 columns]\n"
     ]
    }
   ],
   "source": [
    "print(df)"
   ]
  },
  {
   "cell_type": "code",
   "execution_count": 21,
   "metadata": {},
   "outputs": [],
   "source": [
    "# mudando a ordem das colunas para exibição"
   ]
  },
  {
   "cell_type": "code",
   "execution_count": 22,
   "metadata": {},
   "outputs": [],
   "source": [
    "cols = list(df.columns.values)"
   ]
  },
  {
   "cell_type": "code",
   "execution_count": 23,
   "metadata": {},
   "outputs": [
    {
     "data": {
      "text/plain": [
       "'PAGOU'"
      ]
     },
     "execution_count": 23,
     "metadata": {},
     "output_type": "execute_result"
    }
   ],
   "source": [
    "cols.pop(cols.index('PAGOU'))"
   ]
  },
  {
   "cell_type": "code",
   "execution_count": 25,
   "metadata": {},
   "outputs": [],
   "source": [
    "df = df[cols+['PAGOU']]"
   ]
  },
  {
   "cell_type": "code",
   "execution_count": 26,
   "metadata": {},
   "outputs": [
    {
     "name": "stdout",
     "output_type": "stream",
     "text": [
      "         IDADE  F  I  M  0  G  N  V  PAGOU\n",
      "0         26.0  0  0  1  1  0  0  1      0\n",
      "1         26.0  0  0  1  1  0  0  1      0\n",
      "2         26.0  0  0  1  1  0  0  1      0\n",
      "3         26.0  0  0  1  1  0  0  1      0\n",
      "4         26.0  0  0  1  1  0  0  1      0\n",
      "5         26.0  0  0  1  1  0  0  1      0\n",
      "6         26.0  0  0  1  1  0  0  1      0\n",
      "7         26.0  0  0  1  1  0  0  1      0\n",
      "8         26.0  0  0  1  1  0  0  1      0\n",
      "9         26.0  0  0  1  1  0  0  1      0\n",
      "10        26.0  0  0  1  1  0  0  1      0\n",
      "11        26.0  0  0  1  1  0  0  1      0\n",
      "12        26.0  0  0  1  1  0  0  1      0\n",
      "13        26.0  0  0  1  0  1  0  1      0\n",
      "14        26.0  0  0  1  1  0  0  1      0\n",
      "15        26.0  0  0  1  1  0  0  1      0\n",
      "16        26.0  0  0  1  1  0  0  1      0\n",
      "17        26.0  0  0  1  1  0  0  1      0\n",
      "18        26.0  0  0  1  1  0  0  1      0\n",
      "19        26.0  0  0  1  1  0  0  1      0\n",
      "20        26.0  0  0  1  1  0  0  1      0\n",
      "21        26.0  0  0  1  1  0  0  1      0\n",
      "22        26.0  0  0  1  1  0  0  1      0\n",
      "23        26.0  0  0  1  1  0  0  1      0\n",
      "24        26.0  0  0  1  1  0  0  1      0\n",
      "25        26.0  0  0  1  1  0  0  1      0\n",
      "26        26.0  0  0  1  1  0  0  1      0\n",
      "27        26.0  0  0  1  1  0  0  1      0\n",
      "28        26.0  0  0  1  1  0  0  1      0\n",
      "29        26.0  0  0  1  1  0  0  1      0\n",
      "...        ... .. .. .. .. .. .. ..    ...\n",
      "2308182   36.0  0  1  0  0  0  1  0      1\n",
      "2308183   36.0  0  1  0  0  0  1  0      1\n",
      "2308184   36.0  0  1  0  0  0  1  0      1\n",
      "2308185   36.0  0  1  0  0  0  1  0      1\n",
      "2308186   36.0  0  1  0  0  0  1  0      1\n",
      "2308187   36.0  0  1  0  0  0  1  0      1\n",
      "2308188   36.0  0  1  0  0  0  1  0      1\n",
      "2308189   36.0  0  1  0  0  0  1  0      1\n",
      "2308190   36.0  0  1  0  0  0  1  0      1\n",
      "2308191   36.0  0  1  0  0  0  1  0      1\n",
      "2308192   36.0  0  1  0  0  0  1  0      1\n",
      "2308193   36.0  0  1  0  0  0  1  0      1\n",
      "2308194   36.0  0  1  0  0  0  1  0      1\n",
      "2308195   36.0  0  1  0  0  0  1  0      1\n",
      "2308196   36.0  0  1  0  0  0  1  0      1\n",
      "2308197   36.0  0  1  0  0  0  1  0      1\n",
      "2308198   36.0  0  1  0  0  0  1  0      1\n",
      "2308199   36.0  0  1  0  0  0  1  0      1\n",
      "2308200   36.0  0  1  0  0  0  1  0      1\n",
      "2308201   36.0  0  1  0  0  0  1  0      1\n",
      "2308202   36.0  0  1  0  0  0  1  0      1\n",
      "2308203   36.0  0  1  0  0  0  1  0      1\n",
      "2308204   36.0  0  1  0  0  0  1  0      1\n",
      "2308205   36.0  0  1  0  0  0  1  0      1\n",
      "2308206   36.0  0  1  0  0  0  1  0      1\n",
      "2308207   36.0  0  1  0  0  0  1  0      1\n",
      "2308208   36.0  0  1  0  0  0  1  0      1\n",
      "2308209   36.0  0  1  0  0  0  1  0      1\n",
      "2308210   36.0  0  1  0  0  0  1  0      1\n",
      "2308211   36.0  0  1  0  0  0  1  0      1\n",
      "\n",
      "[2308212 rows x 9 columns]\n"
     ]
    }
   ],
   "source": [
    "print(df)"
   ]
  },
  {
   "cell_type": "code",
   "execution_count": null,
   "metadata": {},
   "outputs": [],
   "source": []
  }
 ],
 "metadata": {
  "kernelspec": {
   "display_name": "Python 3",
   "language": "python",
   "name": "python3"
  },
  "language_info": {
   "codemirror_mode": {
    "name": "ipython",
    "version": 3
   },
   "file_extension": ".py",
   "mimetype": "text/x-python",
   "name": "python",
   "nbconvert_exporter": "python",
   "pygments_lexer": "ipython3",
   "version": "3.6.4"
  }
 },
 "nbformat": 4,
 "nbformat_minor": 2
}
